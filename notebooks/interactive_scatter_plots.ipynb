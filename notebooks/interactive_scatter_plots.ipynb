{
 "cells": [
  {
   "cell_type": "markdown",
   "id": "df381b9e",
   "metadata": {},
   "source": [
    "\n",
    "# Interactive Scatterplots (Age, Cortical Thickness & Surface Area) \n",
    "\n",
    "This notebook loads **ESMRMB25_sample_data_ct_sa.csv** and builds an interactive Bokeh scatter with:\n",
    "- X/Y axis switching (age, thickness, surface area)\n",
    "- Horizontal jitter on x to reduce overplotting \n",
    "- Age range filter and optional lobe filter\n",
    "- Hover tooltips"
   ]
  },
  {
   "cell_type": "code",
   "execution_count": null,
   "id": "aadc356d-57e8-4e2d-8604-8c488f9da52d",
   "metadata": {},
   "outputs": [],
   "source": [
    "# Download the requirements.txt file (if running on your own computer and not using Google Colab)\n",
    "! wget -nc https://raw.githubusercontent.com/saigerutherford/esmrmb_data_viz/main/requirements.txt"
   ]
  },
  {
   "cell_type": "code",
   "execution_count": null,
   "id": "19e15b8a-f448-44b6-9a2c-895f3256d688",
   "metadata": {},
   "outputs": [],
   "source": [
    "# Download the requirements.txt file (if using Google Colab and not running on your own computer)\n",
    "! wget -nc https://raw.githubusercontent.com/saigerutherford/esmrmb_data_viz/main/requirements_colab.txt"
   ]
  },
  {
   "cell_type": "code",
   "execution_count": null,
   "id": "fdfe1334-16a2-48a6-a38e-a9eaf7cf8981",
   "metadata": {},
   "outputs": [],
   "source": [
    "# Download the sample data set\n",
    "! wget -nc https://raw.githubusercontent.com/saigerutherford/esmrmb_data_viz/main/ESMRMB25_sample_data_ct_sa.csv"
   ]
  },
  {
   "cell_type": "code",
   "execution_count": null,
   "id": "cf443302-1a50-49a6-85af-7ba04f7bd3db",
   "metadata": {},
   "outputs": [],
   "source": [
    "# Install the required python packages, uncomment depending on how you are running the tutorial\n",
    "#! pip install -r requirements.txt # uncomment this line in running on a personal computer (not via Google Colab)\n",
    "#! pip install -r requirements_colab.txt # un comment this line if running on Google Colab"
   ]
  },
  {
   "cell_type": "code",
   "execution_count": null,
   "id": "2a63a3c8",
   "metadata": {
    "tags": []
   },
   "outputs": [],
   "source": [
    "from bokeh.io import output_notebook\n",
    "output_notebook()"
   ]
  },
  {
   "cell_type": "code",
   "execution_count": null,
   "id": "8b6abb10",
   "metadata": {
    "tags": []
   },
   "outputs": [],
   "source": [
    "import pandas as pd, numpy as np\n",
    "\n",
    "# Adjust the path to where you downloaded the sample data\n",
    "csv_path = \"ESMRMB25_sample_data_ct_sa.csv\"\n",
    "df = pd.read_csv(csv_path)\n",
    "\n",
    "# Coerce numeric columns we will plot\n",
    "for c in [\"age\",\"thickness\",\"surf_area\"]:\n",
    "    if c in df.columns:\n",
    "        df[c] = pd.to_numeric(df[c], errors=\"coerce\")\n",
    "\n",
    "# Drop rows missing critical numerics\n",
    "df = df.dropna(subset=[\"age\",\"thickness\",\"surf_area\"]).reset_index(drop=True)\n",
    "\n",
    "# Size column for scatter based on surface area\n",
    "size_min, size_max = 6, 22\n",
    "tmin, tmax = df[\"surf_area\"].min(), df[\"surf_area\"].max()\n",
    "df[\"size_var\"] = (size_min + size_max)/2.0 if tmin == tmax else np.interp(df[\"surf_area\"], [tmin, tmax], [size_min, size_max])\n",
    "\n",
    "df.head()"
   ]
  },
  {
   "cell_type": "code",
   "execution_count": null,
   "id": "1a019548-6fe6-45f8-89eb-fbe0515019b4",
   "metadata": {
    "tags": []
   },
   "outputs": [],
   "source": [
    "df.groupby(by='subject_id')['thickness'].describe()"
   ]
  },
  {
   "cell_type": "code",
   "execution_count": null,
   "id": "d48ad0cf-d303-4f35-84fe-1790501d3519",
   "metadata": {
    "tags": []
   },
   "outputs": [],
   "source": [
    "df.groupby(by='subject_id')['surf_area'].describe()"
   ]
  },
  {
   "cell_type": "markdown",
   "id": "3e5bbcc3-0b02-4496-9e8e-483159099a6e",
   "metadata": {},
   "source": [
    "\n",
    "## Static scatter + hover (quick)\n"
   ]
  },
  {
   "cell_type": "code",
   "execution_count": null,
   "id": "3e2d8195-46e8-4686-ae09-7da806f0a219",
   "metadata": {
    "tags": []
   },
   "outputs": [],
   "source": [
    "from bokeh.plotting import figure\n",
    "from bokeh.models import ColumnDataSource, HoverTool\n",
    "from bokeh.io import show\n",
    "from bokeh.transform import jitter\n",
    "\n",
    "source_quick = ColumnDataSource(df)\n",
    "p = figure(height=600, width=1000, tools=\"pan,wheel_zoom,box_zoom,reset,save\",\n",
    "           x_axis_label=\"Age\", y_axis_label=\"Cortical Thickness\")\n",
    "p.scatter(x=jitter('age', width=0.9, range=p.x_range), y=\"thickness\", size=8, alpha=0.7, source=source_quick)\n",
    "p.add_tools(HoverTool(tooltips=[(\"ROI\",\"@ROI_name\"),(\"Age\",\"@age\"),(\"CT\",\"@thickness\")]))\n",
    "show(p)"
   ]
  },
  {
   "cell_type": "code",
   "execution_count": null,
   "id": "a034be24-48a1-4648-99dc-167500842e67",
   "metadata": {
    "tags": []
   },
   "outputs": [],
   "source": [
    "from bokeh.models import (\n",
    "    ColumnDataSource, Select, RangeSlider, CheckboxGroup, CustomJS, Div, HoverTool,\n",
    "    Jitter\n",
    ")\n",
    "from bokeh.layouts import column, row\n",
    "from bokeh.plotting import figure, show\n",
    "from bokeh.transform import factor_cmap\n",
    "from bokeh.palettes import Category10\n",
    "\n",
    "# -----------------------------\n",
    "# 0) Ensure we have a size column (used by scatter size=...)\n",
    "# -----------------------------\n",
    "if \"size_var\" not in df.columns:\n",
    "    size_min, size_max = 6, 22\n",
    "    tmin, tmax = df[\"surf_area\"].min(), df[\"surf_area\"].max()\n",
    "    df[\"size_var\"] = (size_min + size_max) / 2.0 if tmin == tmax else np.interp(\n",
    "        df[\"surf_area\"], [tmin, tmax], [size_min, size_max]\n",
    "    )\n",
    "\n",
    "# -----------------------------\n",
    "# 1) Which numeric columns can be mapped to axes?\n",
    "# -----------------------------\n",
    "numeric_fields = [\"age\", \"thickness\", \"surf_area\"]\n",
    "axis_options = [\n",
    "    (f, \"Surface area\" if f == \"surf_area\" else f.capitalize())\n",
    "    for f in numeric_fields\n",
    "    if f in df.columns\n",
    "]\n",
    "\n",
    "# -----------------------------\n",
    "# 2) Categorical column for color (legend)\n",
    "# -----------------------------\n",
    "cat_col = \"lobe\" if \"lobe\" in df.columns else None\n",
    "if cat_col:\n",
    "    cats = sorted(df[cat_col].dropna().unique().tolist())\n",
    "    palette_vals = Category10[10] if len(cats) <= 10 else (\n",
    "        Category10[10] * ((len(cats) // 10) + 1)\n",
    "    )[: len(cats)]\n",
    "else:\n",
    "    cats, palette_vals = [], []\n",
    "\n",
    "# -----------------------------\n",
    "# 3) Data sources: original (for filtering), and a working \"source\" for the plot\n",
    "# -----------------------------\n",
    "original = ColumnDataSource(df.copy())\n",
    "source   = ColumnDataSource(df.copy())\n",
    "\n",
    "# -----------------------------\n",
    "# 4) Widgets (no jitter slider)\n",
    "# -----------------------------\n",
    "x_select = Select(title=\"X Axis\", value=\"age\",       options=[(k, v) for k, v in axis_options])\n",
    "y_select = Select(title=\"Y Axis\", value=\"thickness\", options=[(k, v) for k, v in axis_options])\n",
    "\n",
    "age_min, age_max = int(np.floor(df[\"age\"].min())), int(np.ceil(df[\"age\"].max()))\n",
    "age_slider = RangeSlider(title=\"Age range\", start=age_min, end=age_max,\n",
    "                         value=(age_min, age_max), step=1)\n",
    "\n",
    "lobe_group = CheckboxGroup(labels=cats, active=list(range(len(cats)))) if cats else None\n",
    "\n",
    "# -----------------------------\n",
    "# 5) Figure + glyph:\n",
    "# -----------------------------\n",
    "plot = figure(height=600, width=1000, tools=\"pan,wheel_zoom,box_zoom,reset,save\")\n",
    "\n",
    "# Fixed jitter width = 0.6\n",
    "jit = Jitter(width=0.6, range=plot.x_range)\n",
    "\n",
    "if cat_col:\n",
    "    r = plot.scatter(\n",
    "        x={\"field\": x_select.value, \"transform\": jit},\n",
    "        y={\"field\": y_select.value},\n",
    "        size=\"size_var\",\n",
    "        fill_color=factor_cmap(cat_col, palette=palette_vals, factors=cats),\n",
    "        line_color=None,\n",
    "        alpha=0.85,\n",
    "        source=source,\n",
    "        legend_field=cat_col,\n",
    "    )\n",
    "    # Legend tweaks\n",
    "    plot.legend.label_text_font_size = \"8pt\"\n",
    "    plot.legend.glyph_width = 10\n",
    "    plot.legend.spacing = 2\n",
    "    plot.legend.padding = 4\n",
    "    plot.add_layout(plot.legend[0], \"right\")\n",
    "else:\n",
    "    r = plot.scatter(\n",
    "        x={\"field\": x_select.value, \"transform\": jit},\n",
    "        y={\"field\": y_select.value},\n",
    "        size=\"size_var\",\n",
    "        line_color=None,\n",
    "        alpha=0.85,\n",
    "        source=source,\n",
    "    )\n",
    "\n",
    "# Axis labels reflect current selections\n",
    "plot.xaxis.axis_label = dict(axis_options)[x_select.value]\n",
    "plot.yaxis.axis_label = dict(axis_options)[y_select.value]\n",
    "\n",
    "# Hover info\n",
    "plot.add_tools(HoverTool(tooltips=[\n",
    "    (\"ROI\", \"@ROI_name\"),\n",
    "    (\"age\", \"@age\"),\n",
    "    (\"thickness\", \"@thickness\"),\n",
    "    (\"surf_area\", \"@surf_area\"),\n",
    "    (\"sex\", \"@sex\"),\n",
    "]))\n",
    "\n",
    "# -----------------------------\n",
    "# 6) CustomJS callback:\n",
    "# -----------------------------\n",
    "args = dict(\n",
    "    source=source, original=original,\n",
    "    x_select=x_select, y_select=y_select,\n",
    "    age_slider=age_slider, plot=plot, r=r, jit=jit\n",
    ")\n",
    "if lobe_group:\n",
    "    args[\"lobe_group\"] = lobe_group\n",
    "\n",
    "callback = CustomJS(args=args, code=\"\"\"\n",
    "    const data = {...original.data};\n",
    "    const x = x_select.value;\n",
    "    const y = y_select.value;\n",
    "    const a0 = age_slider.value[0];\n",
    "    const a1 = age_slider.value[1];\n",
    "\n",
    "    const out = {};\n",
    "    for (const k of Object.keys(data)) out[k] = [];\n",
    "\n",
    "    let active_lobes = null;\n",
    "    if (typeof lobe_group !== 'undefined' && lobe_group) {\n",
    "        active_lobes = new Set(lobe_group.active.map(i => lobe_group.labels[i]));\n",
    "    }\n",
    "\n",
    "    const N = data['age'].length;\n",
    "    for (let i = 0; i < N; i++) {\n",
    "        const age = data['age'][i];\n",
    "        const xv = data[x][i];\n",
    "        const yv = data[y][i];\n",
    "        const age_ok = Number.isFinite(age) && age >= a0 && age <= a1;\n",
    "        const finite_ok = Number.isFinite(xv) && Number.isFinite(yv);\n",
    "        const lobe_ok = active_lobes ? active_lobes.has(data['lobe'][i]) : true;\n",
    "\n",
    "        if (age_ok && finite_ok && lobe_ok) {\n",
    "            for (const k of Object.keys(data)) out[k].push(data[k][i]);\n",
    "        }\n",
    "    }\n",
    "\n",
    "    source.data = out;\n",
    "    source.change.emit();\n",
    "\n",
    "    // rebind glyph fields (keeps the same transform object)\n",
    "    r.glyph.x = { field: x, transform: jit };\n",
    "    r.glyph.y = { field: y };\n",
    "    r.glyph.change.emit();\n",
    "\n",
    "    if (plot.xaxis && plot.xaxis[0]) plot.xaxis[0].axis_label = x;\n",
    "    if (plot.yaxis && plot.yaxis[0]) plot.yaxis[0].axis_label = y;\n",
    "\n",
    "    plot.change.emit();\n",
    "    plot.request_render();\n",
    "\"\"\")\n",
    "\n",
    "# Wire the widgets to the callback\n",
    "for w in [x_select, y_select, age_slider]:\n",
    "    w.js_on_change(\"value\", callback)\n",
    "if lobe_group:\n",
    "    lobe_group.js_on_change(\"active\", callback)\n",
    "\n",
    "# -----------------------------\n",
    "# 7) Layout and show\n",
    "# -----------------------------\n",
    "controls = [x_select, y_select, age_slider]\n",
    "if lobe_group:\n",
    "    controls += [Div(text=\"<b>Lobes</b>\"), lobe_group]\n",
    "\n",
    "show(row(plot, column(*controls)))"
   ]
  },
  {
   "cell_type": "code",
   "execution_count": null,
   "id": "3ccd5be2-e7ec-42af-9754-5500a0a6d3a4",
   "metadata": {},
   "outputs": [],
   "source": []
  }
 ],
 "metadata": {
  "kernelspec": {
   "display_name": "Python 3 (ipykernel)",
   "language": "python",
   "name": "python3"
  },
  "language_info": {
   "codemirror_mode": {
    "name": "ipython",
    "version": 3
   },
   "file_extension": ".py",
   "mimetype": "text/x-python",
   "name": "python",
   "nbconvert_exporter": "python",
   "pygments_lexer": "ipython3",
   "version": "3.11.7"
  }
 },
 "nbformat": 4,
 "nbformat_minor": 5
}
