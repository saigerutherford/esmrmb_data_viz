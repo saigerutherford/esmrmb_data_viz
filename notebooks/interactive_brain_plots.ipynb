{
 "cells": [
  {
   "cell_type": "markdown",
   "id": "03b3da29",
   "metadata": {},
   "source": [
    "# Interactive Neuroimaging Visualizations (30‑min Mini‑Tutorial)\n",
    "\n",
    "**Goal:** learn quick, reproducible ways to make interactive brain visualizations in Python (works in Google Colab).\n",
    "\n",
    "**What you'll do**\n",
    "1. Install tools and fetch example data\n",
    "2. Make an interactive 3D cortical surface map with Plotly\n",
    "3. Explore a statistical map with an interactive slice viewer\n",
    "4. Build a tiny 3D connectome in Plotly\n",
    "5. Try basic 3D volume rendering\n",
    "6. Upload & visualize your own NIfTI\n",
    "\n",
    "> Tip: Run each cell in order. If you're in **Colab**, make sure the first cell (installs) finishes before moving on.\n"
   ]
  },
  {
   "cell_type": "code",
   "execution_count": null,
   "id": "38d2cb33",
   "metadata": {
    "id": "setup"
   },
   "outputs": [],
   "source": [
    "# --- Setup: installs (Colab-friendly) ---\n",
    "!pip -q install nilearn nibabel plotly\n",
    "import numpy as np\n",
    "import nibabel as nib\n",
    "import plotly.graph_objects as go\n",
    "from nilearn import datasets, image, plotting, surface\n",
    "from nilearn.datasets import fetch_surf_fsaverage, fetch_neurovault_motor_task\n",
    "print('Versions:')\n",
    "import nilearn, sys\n",
    "print('Python', sys.version)\n",
    "print('nilearn', nilearn.__version__)\n",
    "print('nibabel', nib.__version__)\n",
    "import plotly\n",
    "print('plotly', plotly.__version__)"
   ]
  },
  {
   "cell_type": "markdown",
   "id": "ac8fa507",
   "metadata": {},
   "source": [
    "## 1) Get example data\n",
    "We will fetch:\n",
    "- **fsaverage** surfaces for plotting the cortex\n",
    "- A sample **motor-task** statistical map from NeuroVault"
   ]
  },
  {
   "cell_type": "code",
   "execution_count": null,
   "id": "3cea1226",
   "metadata": {
    "id": "data"
   },
   "outputs": [],
   "source": [
    "fsavg = fetch_surf_fsaverage()\n",
    "motor = fetch_neurovault_motor_task()\n",
    "stat_img_path = motor.images[0]\n",
    "stat_img = nib.load(stat_img_path)\n",
    "stat_img"
   ]
  },
  {
   "cell_type": "markdown",
   "id": "f165c2b9",
   "metadata": {},
   "source": [
    "## 2) Interactive 3D cortical surface map (Plotly)\n",
    "Pipeline:\n",
    "1. Project the volume to the **cortical surface** (left hemisphere)\n",
    "2. Create a Plotly triangular mesh (`Mesh3d`) for an interactive brain\n",
    "3. Color vertices by the projected statistical values\n",
    "\n",
    "> You can rotate, pan, and zoom."
   ]
  },
  {
   "cell_type": "code",
   "execution_count": null,
   "id": "694b4ff4",
   "metadata": {
    "id": "surface_plot"
   },
   "outputs": [],
   "source": [
    "# Project the statistical image to the left hemisphere surface\n",
    "texture = surface.vol_to_surf(stat_img, fsavg.pial_left)\n",
    "\n",
    "# Load left hemisphere geometry\n",
    "coords, faces = surface.load_surf_mesh(fsavg.pial_left)\n",
    "x, y, z = coords.T\n",
    "i, j, k = faces.T\n",
    "\n",
    "# Normalize texture for coloring\n",
    "vals = (texture - np.nanmin(texture)) / (np.nanmax(texture) - np.nanmin(texture) + 1e-6)\n",
    "\n",
    "fig = go.Figure(data=[go.Mesh3d(x=x, y=y, z=z,\n",
    "                               i=i, j=j, k=k,\n",
    "                               intensity=vals,\n",
    "                               colorscale='Viridis',\n",
    "                               showscale=True, opacity=1.0)])\n",
    "fig.update_layout(title='Interactive Cortical Surface (LH)',\n",
    "                  scene=dict(xaxis=dict(visible=False),\n",
    "                             yaxis=dict(visible=False),\n",
    "                             zaxis=dict(visible=False)),\n",
    "                  width=800, height=500)\n",
    "fig.show()"
   ]
  },
  {
   "cell_type": "markdown",
   "id": "e6c278ff",
   "metadata": {},
   "source": [
    "## 3) Interactive slice viewer (`nilearn.plotting.view_img`)\n",
    "This widget lets you adjust **threshold, colormap, and opacity** interactively in the notebook."
   ]
  },
  {
   "cell_type": "code",
   "execution_count": null,
   "id": "53f83436",
   "metadata": {
    "id": "slice_viewer"
   },
   "outputs": [],
   "source": [
    "view = plotting.view_img(stat_img, threshold='95%', symmetric_cmap=False)\n",
    "view"
   ]
  },
  {
   "cell_type": "markdown",
   "id": "09435ab0",
   "metadata": {},
   "source": [
    "## 4) Tiny 3D connectome in Plotly\n",
    "We’ll create a small set of nodes and weighted edges and draw them in 3D with interactivity."
   ]
  },
  {
   "cell_type": "code",
   "execution_count": null,
   "id": "92ebfd2c",
   "metadata": {
    "id": "connectome"
   },
   "outputs": [],
   "source": [
    "np.random.seed(0)\n",
    "n_nodes = 10\n",
    "nodes = np.random.uniform(-50, 50, size=(n_nodes, 3))\n",
    "A = np.random.rand(n_nodes, n_nodes)\n",
    "A = (A + A.T)/2\n",
    "A[A < 0.8] = 0  # sparsify\n",
    "\n",
    "edge_x, edge_y, edge_z = [], [], []\n",
    "for a in range(n_nodes):\n",
    "    for b in range(a+1, n_nodes):\n",
    "        if A[a, b] > 0:\n",
    "            x0, y0, z0 = nodes[a]\n",
    "            x1, y1, z1 = nodes[b]\n",
    "            edge_x += [x0, x1, None]\n",
    "            edge_y += [y0, y1, None]\n",
    "            edge_z += [z0, z1, None]\n",
    "\n",
    "node_trace = go.Scatter3d(x=nodes[:,0], y=nodes[:,1], z=nodes[:,2],\n",
    "                          mode='markers', marker=dict(size=6), name='Nodes')\n",
    "edge_trace = go.Scatter3d(x=edge_x, y=edge_y, z=edge_z, mode='lines', name='Edges')\n",
    "\n",
    "fig = go.Figure(data=[edge_trace, node_trace])\n",
    "fig.update_layout(title='Mini 3D Connectome (toy)',\n",
    "                  scene=dict(xaxis=dict(visible=False),\n",
    "                             yaxis=dict(visible=False),\n",
    "                             zaxis=dict(visible=False)),\n",
    "                  showlegend=False, width=800, height=500)\n",
    "fig.show()"
   ]
  },
  {
   "cell_type": "markdown",
   "id": "6a413273",
   "metadata": {},
   "source": [
    "## 5) Basic 3D volume rendering with Plotly\n",
    "We’ll downsample the statistical image to keep rendering fast, then use `go.Volume`."
   ]
  },
  {
   "cell_type": "code",
   "execution_count": null,
   "id": "ead4a4be",
   "metadata": {
    "id": "volume"
   },
   "outputs": [],
   "source": [
    "img_small = image.resample_img(stat_img, target_affine=np.diag([4,4,4]))\n",
    "data = img_small.get_fdata()\n",
    "data = np.nan_to_num(data)\n",
    "fig = go.Figure(data=go.Volume(\n",
    "    x=np.arange(data.shape[0]),\n",
    "    y=np.arange(data.shape[1]),\n",
    "    z=np.arange(data.shape[2]),\n",
    "    value=data.flatten(order='F'),\n",
    "    opacity=0.1, surface_count=12))\n",
    "fig.update_layout(title='3D Volume Rendering (downsampled)', width=800, height=500)\n",
    "fig.show()"
   ]
  },
  {
   "cell_type": "markdown",
   "id": "abeca75e",
   "metadata": {},
   "source": [
    "## 6) Upload & visualize your own NIfTI\n",
    "In Colab, run the next cell and choose a `.nii` or `.nii.gz` file. Then view it interactively."
   ]
  },
  {
   "cell_type": "code",
   "execution_count": null,
   "id": "afd52dbb",
   "metadata": {
    "id": "upload"
   },
   "outputs": [],
   "source": [
    "try:\n",
    "    from google.colab import files\n",
    "    uploaded = files.upload()\n",
    "    upname = list(uploaded.keys())[0]\n",
    "    img = nib.load(upname)\n",
    "    plotting.view_img(img, threshold=None)\n",
    "except Exception as e:\n",
    "    print('Upload available only in Google Colab. If local, provide a path to your NIfTI and use nibabel to load it.')\n",
    "    print(e)"
   ]
  },
  {
   "cell_type": "markdown",
   "id": "83456456",
   "metadata": {},
   "source": [
    "## 7) Exercises (pick 1–2)\n",
    "- Change the hemisphere to **right** and re‑plot the surface.\n",
    "- Swap the statistical image for another from the NeuroVault motor set.\n",
    "- Adjust volume rendering parameters (`opacity`, `surface_count`).\n",
    "- Add **hover text** to nodes in the connectome plot.\n",
    "- Upload your own map and try different thresholds in `view_img`.\n",
    "\n",
    "### Bonus: Save figures\n",
    "```python\n",
    "fig.write_html('figure.html', include_plotlyjs='cdn')\n",
    "```\n"
   ]
  },
  {
   "cell_type": "markdown",
   "id": "6a80ffa2",
   "metadata": {},
   "source": [
    "---\n",
    "If something breaks in Colab due to versions, re‑run the **setup** cell and then `Runtime → Restart runtime`."
   ]
  }
 ],
 "metadata": {
  "colab": {
   "name": "Interactive_Neuroimaging_Visualization_Tutorial.ipynb"
  },
  "kernelspec": {
   "display_name": "Python 3 (ipykernel)",
   "language": "python",
   "name": "python3"
  },
  "language_info": {
   "codemirror_mode": {
    "name": "ipython",
    "version": 3
   },
   "file_extension": ".py",
   "mimetype": "text/x-python",
   "name": "python",
   "nbconvert_exporter": "python",
   "pygments_lexer": "ipython3",
   "version": "3.11.7"
  }
 },
 "nbformat": 4,
 "nbformat_minor": 5
}
